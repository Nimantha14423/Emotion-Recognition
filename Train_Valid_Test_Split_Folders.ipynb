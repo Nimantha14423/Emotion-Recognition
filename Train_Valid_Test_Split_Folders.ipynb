{
  "nbformat": 4,
  "nbformat_minor": 0,
  "metadata": {
    "colab": {
      "provenance": []
    },
    "kernelspec": {
      "name": "python3",
      "display_name": "Python 3"
    },
    "language_info": {
      "name": "python"
    }
  },
  "cells": [
    {
      "cell_type": "code",
      "metadata": {
        "colab": {
          "base_uri": "https://localhost:8080/"
        },
        "id": "Ci130RzQFPcn",
        "outputId": "217f5a1c-4f6d-4549-a102-fe5c829646b8"
      },
      "source": [
        "from google.colab import drive\n",
        "drive.mount('/content/drive')"
      ],
      "execution_count": null,
      "outputs": [
        {
          "output_type": "stream",
          "name": "stdout",
          "text": [
            "Mounted at /content/drive\n"
          ]
        }
      ]
    },
    {
      "cell_type": "code",
      "metadata": {
        "colab": {
          "base_uri": "https://localhost:8080/"
        },
        "id": "YR-zcsIvFVWf",
        "outputId": "8b61b347-ae9e-4557-90cb-c4e5f42c8e15"
      },
      "source": [
        "pip install split-folders tqdm"
      ],
      "execution_count": null,
      "outputs": [
        {
          "output_type": "stream",
          "name": "stdout",
          "text": [
            "Looking in indexes: https://pypi.org/simple, https://us-python.pkg.dev/colab-wheels/public/simple/\n",
            "Collecting split-folders\n",
            "  Downloading split_folders-0.5.1-py3-none-any.whl (8.4 kB)\n",
            "Requirement already satisfied: tqdm in /usr/local/lib/python3.7/dist-packages (4.64.0)\n",
            "Installing collected packages: split-folders\n",
            "Successfully installed split-folders-0.5.1\n"
          ]
        }
      ]
    },
    {
      "cell_type": "code",
      "metadata": {
        "id": "4MUNSaY0FbXA",
        "colab": {
          "base_uri": "https://localhost:8080/"
        },
        "outputId": "6235e055-0bb0-4ac7-c5da-1cba4fcc542c"
      },
      "source": [
        "import splitfolders\n",
        "splitfolders.ratio('/content/drive/MyDrive/UPDATED DATASET/Front', output=\"/content/drive/MyDrive/UPDATED DATASET\", seed=1337, ratio=(.8, 0.1,0.1))"
      ],
      "execution_count": null,
      "outputs": [
        {
          "output_type": "stream",
          "name": "stderr",
          "text": [
            "Copying files: 3195 files [01:12, 43.78 files/s]\n"
          ]
        }
      ]
    }
  ]
}