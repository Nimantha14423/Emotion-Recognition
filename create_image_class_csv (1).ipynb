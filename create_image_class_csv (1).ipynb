{
  "nbformat": 4,
  "nbformat_minor": 0,
  "metadata": {
    "colab": {
      "provenance": []
    },
    "kernelspec": {
      "name": "python3",
      "display_name": "Python 3"
    },
    "language_info": {
      "name": "python"
    },
    "accelerator": "GPU"
  },
  "cells": [
    {
      "cell_type": "code",
      "metadata": {
        "id": "Qau8qRJ_ekKl"
      },
      "source": [
        "import os\n",
        "import pandas as pd"
      ],
      "execution_count": null,
      "outputs": []
    },
    {
      "cell_type": "code",
      "metadata": {
        "colab": {
          "base_uri": "https://localhost:8080/"
        },
        "id": "Rls0LJBZr7oN",
        "outputId": "a6d5daec-821d-4300-c863-38eef29d6c89"
      },
      "source": [
        "from google.colab import drive\n",
        "drive.mount('/content/drive')"
      ],
      "execution_count": null,
      "outputs": [
        {
          "output_type": "stream",
          "text": [
            "Mounted at /content/drive\n"
          ],
          "name": "stdout"
        }
      ]
    },
    {
      "cell_type": "code",
      "metadata": {
        "id": "bFRmPFS65Qei"
      },
      "source": [
        "import os\n",
        "import pandas as pd\n",
        "\n",
        "BASE_DIR = '/content/drive/MyDrive/ALL/'\n",
        "surprise = BASE_DIR+'SURPRISE/'\n",
        "anger = BASE_DIR+'ANGER/'\n",
        "joy = BASE_DIR+'JOY/'\n",
        "sadness = BASE_DIR+'SADNESS/'\n",
        "disgust = BASE_DIR+'DISGUST/'\n",
        "fear = BASE_DIR+'FEAR/'\n",
        "\n",
        "sur = os.listdir(surprise)\n",
        "ang = os.listdir(anger)\n",
        "jo = os.listdir(joy)\n",
        "sad = os.listdir(sadness)\n",
        "fe = os.listdir(fear)\n",
        "dis = os.listdir(disgust)\n",
        "\n",
        "df1 = pd.DataFrame()\n",
        "df1['images']=[str(x) for x in sur]\n",
        "df1['SURPRISE']=[1 for x in sur ]\n",
        "df1['ANGER']=[0 for x in sur]\n",
        "df1['JOY']=[0 for x in sur]\n",
        "df1['SADNESS']=[0 for x in sur]\n",
        "df1['DISGUST']=[0 for x in sur]\n",
        "df1['FEAR']=[0 for x in sur]\n",
        "\n",
        "df2 = pd.DataFrame()\n",
        "df2['images']=[str(x) for x in ang]\n",
        "df2['SURPRISE']=[0 for x in ang ]\n",
        "df2['ANGER']=[1 for x in ang]\n",
        "df2['JOY']=[0 for x in ang]\n",
        "df2['SADNESS']=[0 for x in ang]\n",
        "df2['DISGUST']=[0 for x in ang]\n",
        "df2['FEAR']=[0 for x in ang]\n",
        "\n",
        "df3 = pd.DataFrame()\n",
        "df3['images']=[str(x) for x in jo]\n",
        "df3['SURPRISE']=[0 for x in jo ]\n",
        "df3['ANGER']=[0 for x in jo]\n",
        "df3['JOY']=[1 for x in jo]\n",
        "df3['SADNESS']=[0 for x in jo]\n",
        "df3['DISGUST']=[0 for x in jo]\n",
        "df3['FEAR']=[0 for x in jo]\n",
        "\n",
        "df4 = pd.DataFrame()\n",
        "df4['images']=[str(x) for x in sad]\n",
        "df4['SURPRISE']=[0 for x in sad ]\n",
        "df4['ANGER']=[0 for x in sad]\n",
        "df4['JOY']=[0 for x in sad]\n",
        "df4['SADNESS']=[1 for x in sad]\n",
        "df4['DISGUST']=[0 for x in sad]\n",
        "df4['FEAR']=[0 for x in sad]\n",
        "\n",
        "df5 = pd.DataFrame()\n",
        "df5['images']=[str(x) for x in dis]\n",
        "df5['SURPRISE']=[0 for x in dis ]\n",
        "df5['ANGER']=[0 for x in dis]\n",
        "df5['JOY']=[0 for x in dis]\n",
        "df5['SADNESS']=[0 for x in dis]\n",
        "df5['DISGUST']=[1 for x in dis]\n",
        "df5['FEAR']=[0 for x in dis]\n",
        "\n",
        "df6 = pd.DataFrame()\n",
        "df6['images']=[str(x) for x in fe]\n",
        "df6['SURPRISE']=[0 for x in fe ]\n",
        "df6['ANGER']=[0 for x in fe]\n",
        "df6['JOY']=[0 for x in fe]\n",
        "df6['SADNESS']=[0 for x in fe]\n",
        "df6['DISGUST']=[0 for x in fe]\n",
        "df6['FEAR']=[1 for x in fe]\n",
        "\n",
        "#df.to_csv('files_path1.csv', header=None)"
      ],
      "execution_count": null,
      "outputs": []
    },
    {
      "cell_type": "code",
      "metadata": {
        "id": "tP8XWO-adziQ"
      },
      "source": [
        "df = pd.concat([df1, df2, df3, df4, df5, df6])"
      ],
      "execution_count": null,
      "outputs": []
    },
    {
      "cell_type": "code",
      "metadata": {
        "colab": {
          "base_uri": "https://localhost:8080/",
          "height": 406
        },
        "id": "uX7_EhCWfvVD",
        "outputId": "f2e7cdfa-e2b2-4edb-8bd3-c236a3cba96e"
      },
      "source": [
        "df"
      ],
      "execution_count": null,
      "outputs": [
        {
          "output_type": "execute_result",
          "data": {
            "text/html": [
              "<div>\n",
              "<style scoped>\n",
              "    .dataframe tbody tr th:only-of-type {\n",
              "        vertical-align: middle;\n",
              "    }\n",
              "\n",
              "    .dataframe tbody tr th {\n",
              "        vertical-align: top;\n",
              "    }\n",
              "\n",
              "    .dataframe thead th {\n",
              "        text-align: right;\n",
              "    }\n",
              "</style>\n",
              "<table border=\"1\" class=\"dataframe\">\n",
              "  <thead>\n",
              "    <tr style=\"text-align: right;\">\n",
              "      <th></th>\n",
              "      <th>images</th>\n",
              "      <th>SURPRISE</th>\n",
              "      <th>ANGER</th>\n",
              "      <th>JOY</th>\n",
              "      <th>SADNESS</th>\n",
              "      <th>DISGUST</th>\n",
              "      <th>FEAR</th>\n",
              "    </tr>\n",
              "  </thead>\n",
              "  <tbody>\n",
              "    <tr>\n",
              "      <th>0</th>\n",
              "      <td>10_Surprise.1_Left_30_0.jpg</td>\n",
              "      <td>1</td>\n",
              "      <td>0</td>\n",
              "      <td>0</td>\n",
              "      <td>0</td>\n",
              "      <td>0</td>\n",
              "      <td>0</td>\n",
              "    </tr>\n",
              "    <tr>\n",
              "      <th>1</th>\n",
              "      <td>10_Surprise.1_Left_30_1.jpg</td>\n",
              "      <td>1</td>\n",
              "      <td>0</td>\n",
              "      <td>0</td>\n",
              "      <td>0</td>\n",
              "      <td>0</td>\n",
              "      <td>0</td>\n",
              "    </tr>\n",
              "    <tr>\n",
              "      <th>2</th>\n",
              "      <td>10_Surprise.1_Left_30_2.jpg</td>\n",
              "      <td>1</td>\n",
              "      <td>0</td>\n",
              "      <td>0</td>\n",
              "      <td>0</td>\n",
              "      <td>0</td>\n",
              "      <td>0</td>\n",
              "    </tr>\n",
              "    <tr>\n",
              "      <th>3</th>\n",
              "      <td>10_Surprise.1_Left_30_3.jpg</td>\n",
              "      <td>1</td>\n",
              "      <td>0</td>\n",
              "      <td>0</td>\n",
              "      <td>0</td>\n",
              "      <td>0</td>\n",
              "      <td>0</td>\n",
              "    </tr>\n",
              "    <tr>\n",
              "      <th>4</th>\n",
              "      <td>10_Surprise.1_Left_30_4.jpg</td>\n",
              "      <td>1</td>\n",
              "      <td>0</td>\n",
              "      <td>0</td>\n",
              "      <td>0</td>\n",
              "      <td>0</td>\n",
              "      <td>0</td>\n",
              "    </tr>\n",
              "    <tr>\n",
              "      <th>...</th>\n",
              "      <td>...</td>\n",
              "      <td>...</td>\n",
              "      <td>...</td>\n",
              "      <td>...</td>\n",
              "      <td>...</td>\n",
              "      <td>...</td>\n",
              "      <td>...</td>\n",
              "    </tr>\n",
              "    <tr>\n",
              "      <th>1262</th>\n",
              "      <td>9_Fear.4_Right_30_4.jpg</td>\n",
              "      <td>0</td>\n",
              "      <td>0</td>\n",
              "      <td>0</td>\n",
              "      <td>0</td>\n",
              "      <td>0</td>\n",
              "      <td>1</td>\n",
              "    </tr>\n",
              "    <tr>\n",
              "      <th>1263</th>\n",
              "      <td>9_Fear.4_Right_30_5.jpg</td>\n",
              "      <td>0</td>\n",
              "      <td>0</td>\n",
              "      <td>0</td>\n",
              "      <td>0</td>\n",
              "      <td>0</td>\n",
              "      <td>1</td>\n",
              "    </tr>\n",
              "    <tr>\n",
              "      <th>1264</th>\n",
              "      <td>9_Fear.4_Right_30_6.jpg</td>\n",
              "      <td>0</td>\n",
              "      <td>0</td>\n",
              "      <td>0</td>\n",
              "      <td>0</td>\n",
              "      <td>0</td>\n",
              "      <td>1</td>\n",
              "    </tr>\n",
              "    <tr>\n",
              "      <th>1265</th>\n",
              "      <td>9_Fear.4_Right_30_8.jpg</td>\n",
              "      <td>0</td>\n",
              "      <td>0</td>\n",
              "      <td>0</td>\n",
              "      <td>0</td>\n",
              "      <td>0</td>\n",
              "      <td>1</td>\n",
              "    </tr>\n",
              "    <tr>\n",
              "      <th>1266</th>\n",
              "      <td>9_Fear.4_Right_30_9.jpg</td>\n",
              "      <td>0</td>\n",
              "      <td>0</td>\n",
              "      <td>0</td>\n",
              "      <td>0</td>\n",
              "      <td>0</td>\n",
              "      <td>1</td>\n",
              "    </tr>\n",
              "  </tbody>\n",
              "</table>\n",
              "<p>10102 rows × 7 columns</p>\n",
              "</div>"
            ],
            "text/plain": [
              "                           images  SURPRISE  ANGER  JOY  SADNESS  DISGUST  FEAR\n",
              "0     10_Surprise.1_Left_30_0.jpg         1      0    0        0        0     0\n",
              "1     10_Surprise.1_Left_30_1.jpg         1      0    0        0        0     0\n",
              "2     10_Surprise.1_Left_30_2.jpg         1      0    0        0        0     0\n",
              "3     10_Surprise.1_Left_30_3.jpg         1      0    0        0        0     0\n",
              "4     10_Surprise.1_Left_30_4.jpg         1      0    0        0        0     0\n",
              "...                           ...       ...    ...  ...      ...      ...   ...\n",
              "1262      9_Fear.4_Right_30_4.jpg         0      0    0        0        0     1\n",
              "1263      9_Fear.4_Right_30_5.jpg         0      0    0        0        0     1\n",
              "1264      9_Fear.4_Right_30_6.jpg         0      0    0        0        0     1\n",
              "1265      9_Fear.4_Right_30_8.jpg         0      0    0        0        0     1\n",
              "1266      9_Fear.4_Right_30_9.jpg         0      0    0        0        0     1\n",
              "\n",
              "[10102 rows x 7 columns]"
            ]
          },
          "metadata": {
            "tags": []
          },
          "execution_count": 66
        }
      ]
    },
    {
      "cell_type": "code",
      "metadata": {
        "id": "nRE8P4yceGAM"
      },
      "source": [
        "df.to_csv('/content/drive/MyDrive/RESEARCH DATA/Dataset/split/train/class.csv')"
      ],
      "execution_count": null,
      "outputs": []
    }
  ]
}