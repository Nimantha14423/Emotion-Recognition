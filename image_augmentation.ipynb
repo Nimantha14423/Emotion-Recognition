{
  "nbformat": 4,
  "nbformat_minor": 0,
  "metadata": {
    "colab": {
      "provenance": []
    },
    "kernelspec": {
      "name": "python3",
      "display_name": "Python 3"
    },
    "language_info": {
      "name": "python"
    }
  },
  "cells": [
    {
      "cell_type": "code",
      "metadata": {
        "colab": {
          "base_uri": "https://localhost:8080/"
        },
        "id": "uUdnBVGiwxHm",
        "outputId": "d6a3e763-cf43-4f5e-e295-25fc16425705"
      },
      "source": [
        "from google.colab import drive\n",
        "drive.mount('/content/drive')"
      ],
      "execution_count": null,
      "outputs": [
        {
          "output_type": "stream",
          "text": [
            "Mounted at /content/drive\n"
          ],
          "name": "stdout"
        }
      ]
    },
    {
      "cell_type": "code",
      "metadata": {
        "id": "3Xz99UFZx0KP"
      },
      "source": [
        "from keras.preprocessing.image import ImageDataGenerator, array_to_img, img_to_array, load_img\n",
        "\n",
        "train_datagen = ImageDataGenerator(\n",
        "                        rotation_range=10,\n",
        "                         width_shift_range=0.2,\n",
        "                         height_shift_range=0.2,\n",
        "                         shear_range=0.2,\n",
        "                         zoom_range=0.2,\n",
        "                         fill_mode='nearest')"
      ],
      "execution_count": null,
      "outputs": []
    },
    {
      "cell_type": "code",
      "metadata": {
        "id": "QVpwtvFsyaXy"
      },
      "source": [
        "img = load_img('/content/drive/MyDrive/RESEARCH DATA/f/1_Surprise_Right_30_9.jpg')\n",
        "x = img_to_array(img)\n",
        "x = x.reshape((1,)+x.shape)\n",
        "\n",
        "i = 0\n",
        "for batch in train_datagen.flow(x,batch_size=1,save_to_dir='/content/drive/MyDrive/RESEARCH DATA/f/ddd',save_prefix='Surprise',save_format='jpg'):\n",
        "  i+=1\n",
        "  if i > 20:\n",
        "    break"
      ],
      "execution_count": null,
      "outputs": []
    }
  ]
}